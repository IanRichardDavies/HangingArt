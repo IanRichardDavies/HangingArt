{
 "cells": [
  {
   "cell_type": "code",
   "execution_count": 1,
   "id": "assisted-network",
   "metadata": {},
   "outputs": [],
   "source": [
    "import numpy as np\n",
    "from hangingart.curator import Curator\n",
    "import hangingart.rules_factory as rf\n",
    "import hangingart.paintings_factory as pf\n",
    "import hangingart.spaces_factory as sf"
   ]
  },
  {
   "cell_type": "code",
   "execution_count": 2,
   "id": "empirical-reducing",
   "metadata": {},
   "outputs": [],
   "source": [
    "rules = rf.rules\n",
    "paintings = pf.generate_paintings()\n",
    "spaces = sf.generate_spaces()"
   ]
  },
  {
   "cell_type": "code",
   "execution_count": 3,
   "id": "awful-synthetic",
   "metadata": {},
   "outputs": [],
   "source": [
    "curator = Curator(rules, spaces, paintings)"
   ]
  },
  {
   "cell_type": "code",
   "execution_count": 4,
   "id": "synthetic-classics",
   "metadata": {},
   "outputs": [
    {
     "name": "stdout",
     "output_type": "stream",
     "text": [
      "kitchen S\n",
      "Kandinsky\n",
      "Simon Hantai\n",
      "Elegy to the Spanish Republic\n",
      "Albers\n",
      "Woman by de Kooning\n"
     ]
    }
   ],
   "source": [
    "curator.fewest_options()"
   ]
  },
  {
   "cell_type": "code",
   "execution_count": 5,
   "id": "hindu-asthma",
   "metadata": {},
   "outputs": [
    {
     "name": "stdout",
     "output_type": "stream",
     "text": [
      "Kandinsky\n",
      "Simon Hantai\n",
      "Miro Dog\n",
      "Elegy to the Spanish Republic\n",
      "Albers\n",
      "Woman by de Kooning\n"
     ]
    }
   ],
   "source": [
    "curator.options_available('kitchen', 'W')"
   ]
  },
  {
   "cell_type": "code",
   "execution_count": 6,
   "id": "native-lingerie",
   "metadata": {},
   "outputs": [
    {
     "name": "stdout",
     "output_type": "stream",
     "text": [
      "Kandinsky\n",
      "Simon Hantai\n",
      "Elegy to the Spanish Republic\n",
      "Albers\n",
      "Woman by de Kooning\n"
     ]
    }
   ],
   "source": [
    "curator.options_available('dining room', 'N')"
   ]
  },
  {
   "cell_type": "code",
   "execution_count": 7,
   "id": "further-title",
   "metadata": {},
   "outputs": [
    {
     "data": {
      "text/plain": [
       "array([ 5.,  6.,  5.,  5., 11.])"
      ]
     },
     "execution_count": 7,
     "metadata": {},
     "output_type": "execute_result"
    }
   ],
   "source": [
    "curator.space_sums"
   ]
  },
  {
   "cell_type": "code",
   "execution_count": 8,
   "id": "according-payroll",
   "metadata": {},
   "outputs": [
    {
     "name": "stdout",
     "output_type": "stream",
     "text": [
      "living room S\n"
     ]
    }
   ],
   "source": [
    "print(curator.spaces[4].room, curator.spaces[4].surface_dir)"
   ]
  },
  {
   "cell_type": "code",
   "execution_count": null,
   "id": "mighty-logistics",
   "metadata": {},
   "outputs": [],
   "source": []
  }
 ],
 "metadata": {
  "kernelspec": {
   "display_name": "Python 3",
   "language": "python",
   "name": "python3"
  },
  "language_info": {
   "codemirror_mode": {
    "name": "ipython",
    "version": 3
   },
   "file_extension": ".py",
   "mimetype": "text/x-python",
   "name": "python",
   "nbconvert_exporter": "python",
   "pygments_lexer": "ipython3",
   "version": "3.7.1"
  }
 },
 "nbformat": 4,
 "nbformat_minor": 5
}
