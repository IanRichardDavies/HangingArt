{
 "cells": [
  {
   "cell_type": "code",
   "execution_count": 1,
   "id": "inner-nelson",
   "metadata": {},
   "outputs": [],
   "source": [
    "import numpy as np\n",
    "from hangingart.curator import Curator\n",
    "import hangingart.rules_factory as rf\n",
    "import hangingart.paintings_factory as pf\n",
    "import hangingart.spaces_factory as sf"
   ]
  },
  {
   "cell_type": "code",
   "execution_count": 2,
   "id": "rental-seattle",
   "metadata": {},
   "outputs": [],
   "source": [
    "rules = rf.rules\n",
    "paintings = pf.generate_paintings()\n",
    "spaces = sf.generate_spaces()"
   ]
  },
  {
   "cell_type": "code",
   "execution_count": 3,
   "id": "professional-camera",
   "metadata": {},
   "outputs": [],
   "source": [
    "curator = Curator(rules, spaces, paintings)"
   ]
  },
  {
   "cell_type": "code",
   "execution_count": 4,
   "id": "patent-variation",
   "metadata": {},
   "outputs": [
    {
     "name": "stdout",
     "output_type": "stream",
     "text": [
      "kitchen S\n",
      "Kandinsky\n",
      "Simon Hantai\n",
      "Elegy to the Spanish Republic\n",
      "Albers\n",
      "Woman by de Kooning\n"
     ]
    }
   ],
   "source": [
    "curator.fewest_options()"
   ]
  },
  {
   "cell_type": "code",
   "execution_count": 5,
   "id": "incredible-baseline",
   "metadata": {},
   "outputs": [
    {
     "name": "stdout",
     "output_type": "stream",
     "text": [
      "Kandinsky\n",
      "Simon Hantai\n",
      "Miro Dog\n",
      "Elegy to the Spanish Republic\n",
      "Albers\n",
      "Woman by de Kooning\n"
     ]
    }
   ],
   "source": [
    "curator.options_available('kitchen W')"
   ]
  },
  {
   "cell_type": "code",
   "execution_count": 6,
   "id": "australian-needle",
   "metadata": {},
   "outputs": [
    {
     "name": "stdout",
     "output_type": "stream",
     "text": [
      "Kandinsky\n",
      "Simon Hantai\n",
      "Elegy to the Spanish Republic\n",
      "Albers\n",
      "Woman by de Kooning\n"
     ]
    }
   ],
   "source": [
    "curator.options_available('dining room N')"
   ]
  },
  {
   "cell_type": "code",
   "execution_count": 7,
   "id": "returning-sessions",
   "metadata": {},
   "outputs": [
    {
     "data": {
      "text/plain": [
       "array([ 5.,  6.,  5.,  5., 11.])"
      ]
     },
     "execution_count": 7,
     "metadata": {},
     "output_type": "execute_result"
    }
   ],
   "source": [
    "curator.space_sums"
   ]
  },
  {
   "cell_type": "code",
   "execution_count": 8,
   "id": "tribal-thong",
   "metadata": {},
   "outputs": [
    {
     "name": "stdout",
     "output_type": "stream",
     "text": [
      "living room S\n"
     ]
    }
   ],
   "source": [
    "print(curator.spaces[4].room, curator.spaces[4].surface_dir)"
   ]
  },
  {
   "cell_type": "code",
   "execution_count": 9,
   "id": "bright-visit",
   "metadata": {
    "scrolled": true
   },
   "outputs": [
    {
     "name": "stdout",
     "output_type": "stream",
     "text": [
      "\n",
      "            Name: Albers\n",
      "            Category: abstract, suprematism - master\n",
      "            Complete: N \n",
      "            \n"
     ]
    }
   ],
   "source": [
    "curator.display_this_painting('Albers')"
   ]
  },
  {
   "cell_type": "code",
   "execution_count": 10,
   "id": "heated-pastor",
   "metadata": {},
   "outputs": [
    {
     "name": "stdout",
     "output_type": "stream",
     "text": [
      "\n",
      "            living room S\n",
      "            complete: N\n",
      "            Paintings hung:\n"
     ]
    }
   ],
   "source": [
    "curator.display_this_space('living room S')"
   ]
  },
  {
   "cell_type": "code",
   "execution_count": 11,
   "id": "assisted-solomon",
   "metadata": {},
   "outputs": [],
   "source": [
    "curator.hang_painting('kitchen S', 'Albers')"
   ]
  },
  {
   "cell_type": "code",
   "execution_count": 12,
   "id": "photographic-meaning",
   "metadata": {},
   "outputs": [
    {
     "name": "stdout",
     "output_type": "stream",
     "text": [
      "\n",
      "            Name: Albers\n",
      "            Category: abstract, suprematism - master\n",
      "            Complete: Y \n",
      "            \n"
     ]
    }
   ],
   "source": [
    "curator.display_this_painting('Albers')"
   ]
  },
  {
   "cell_type": "code",
   "execution_count": 13,
   "id": "passing-theater",
   "metadata": {},
   "outputs": [
    {
     "name": "stdout",
     "output_type": "stream",
     "text": [
      "\n",
      "            kitchen S\n",
      "            complete: Y\n",
      "            Paintings hung:\n",
      "\n",
      "            Name: Albers\n",
      "            Category: abstract, suprematism - master\n",
      "            Complete: Y \n",
      "            \n"
     ]
    }
   ],
   "source": [
    "curator.display_this_space('kitchen S')"
   ]
  }
 ],
 "metadata": {
  "kernelspec": {
   "display_name": "Python 3",
   "language": "python",
   "name": "python3"
  },
  "language_info": {
   "codemirror_mode": {
    "name": "ipython",
    "version": 3
   },
   "file_extension": ".py",
   "mimetype": "text/x-python",
   "name": "python",
   "nbconvert_exporter": "python",
   "pygments_lexer": "ipython3",
   "version": "3.7.1"
  }
 },
 "nbformat": 4,
 "nbformat_minor": 5
}
